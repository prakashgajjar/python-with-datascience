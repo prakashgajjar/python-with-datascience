{
 "cells": [
  {
   "cell_type": "markdown",
   "id": "044165e5",
   "metadata": {},
   "source": [
    "Learn about array basics "
   ]
  },
  {
   "cell_type": "code",
   "execution_count": 1,
   "id": "dfa1ff09",
   "metadata": {},
   "outputs": [],
   "source": [
    "import numpy as np"
   ]
  },
  {
   "cell_type": "code",
   "execution_count": 2,
   "id": "a0dfd042",
   "metadata": {},
   "outputs": [
    {
     "name": "stdout",
     "output_type": "stream",
     "text": [
      "[1 2 3 4 5 6]\n",
      "[[1 2 3 4 5 6]\n",
      " [1 2 3 4 5 6]]\n"
     ]
    }
   ],
   "source": [
    "array_1D = np.array([1,2,3,4,5,6])\n",
    "print(array_1D)\n",
    "array_2D = np.array([[1,2,3,4,5,6],[1,2,3,4,5,6]])\n",
    "print(array_2D)"
   ]
  },
  {
   "cell_type": "code",
   "execution_count": 3,
   "id": "dcbd4bd1",
   "metadata": {},
   "outputs": [
    {
     "name": "stdout",
     "output_type": "stream",
     "text": [
      "time taken by list :  1.0086259841918945\n",
      "time taken by numpy :  0.0734250545501709\n"
     ]
    }
   ],
   "source": [
    "import time\n",
    "start = time.time()\n",
    "array1 = [i*2 for i in range(10000000)]\n",
    "print('time taken by list : ' , time.time()-start)\n",
    "\n",
    "start = time.time()\n",
    "array2 = np.arange(10000000) * 2\n",
    "print('time taken by numpy : ' , time.time()-start)"
   ]
  },
  {
   "cell_type": "code",
   "execution_count": 4,
   "id": "6dd8770e",
   "metadata": {},
   "outputs": [
    {
     "name": "stdout",
     "output_type": "stream",
     "text": [
      "[[0.90095155 0.41845955]]\n",
      "[[0. 0. 0.]\n",
      " [0. 0. 0.]]\n",
      "[0 1 2 3 4 5 6 7 8 9]\n"
     ]
    }
   ],
   "source": [
    "matrix = np.random.random((1,2))\n",
    "print(matrix)\n",
    "\n",
    "zeros = np.zeros((2,3))\n",
    "print(zeros)\n",
    "\n",
    "sequance  = np.arange(10)\n",
    "print(sequance)"
   ]
  },
  {
   "cell_type": "markdown",
   "id": "cca6164a",
   "metadata": {},
   "source": [
    "matrix and vector and tenser "
   ]
  },
  {
   "cell_type": "markdown",
   "id": "a39604de",
   "metadata": {},
   "source": [
    "array methods "
   ]
  },
  {
   "cell_type": "code",
   "execution_count": 6,
   "id": "75df6eb2",
   "metadata": {},
   "outputs": [
    {
     "name": "stdout",
     "output_type": "stream",
     "text": [
      "[1 2 3 4 5 6] [[1 2 3]\n",
      " [4 5 6]]\n",
      "[0 1 2 3 4 5]\n",
      "[[0 1 2]\n",
      " [3 4 5]]\n",
      "[0 1 2 3 4 5]\n",
      "[[0 3]\n",
      " [1 4]\n",
      " [2 5]]\n"
     ]
    }
   ],
   "source": [
    "import numpy as np\n",
    "matrix = np.array([[1,2,3],[4,5,6]])\n",
    "ravel = np.ravel(matrix)\n",
    "print(ravel , matrix)\n",
    "\n",
    "list1  = np.arange(6)\n",
    "print(list1)\n",
    "\n",
    "list2 = list1.reshape(2,3)\n",
    "print(list2)\n",
    "\n",
    "list3 = list1.ravel()\n",
    "print(list3)\n",
    "\n",
    "transponse = list2.T\n",
    "print(transponse)"
   ]
  },
  {
   "cell_type": "code",
   "execution_count": null,
   "id": "cefd7534",
   "metadata": {},
   "outputs": [],
   "source": []
  }
 ],
 "metadata": {
  "kernelspec": {
   "display_name": ".venv",
   "language": "python",
   "name": "python3"
  },
  "language_info": {
   "codemirror_mode": {
    "name": "ipython",
    "version": 3
   },
   "file_extension": ".py",
   "mimetype": "text/x-python",
   "name": "python",
   "nbconvert_exporter": "python",
   "pygments_lexer": "ipython3",
   "version": "3.12.5"
  }
 },
 "nbformat": 4,
 "nbformat_minor": 5
}
