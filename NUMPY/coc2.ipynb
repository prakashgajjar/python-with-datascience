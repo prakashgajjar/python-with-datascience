{
 "cells": [
  {
   "cell_type": "markdown",
   "id": "40598faf",
   "metadata": {},
   "source": []
  },
  {
   "cell_type": "markdown",
   "id": "b4753ed0",
   "metadata": {},
   "source": [
    "Numpy array operations "
   ]
  },
  {
   "cell_type": "code",
   "execution_count": 11,
   "id": "172ae9c0",
   "metadata": {},
   "outputs": [
    {
     "name": "stdout",
     "output_type": "stream",
     "text": [
      "[[1 2 3]\n",
      " [4 5 6]]\n",
      "specific element  6\n",
      "specific row  [4 5 6]\n",
      "specific column  [3 6]\n"
     ]
    }
   ],
   "source": [
    "import numpy as np\n",
    "\n",
    "array = np.array([[1,2,3],[4,5,6]])\n",
    "print(array)\n",
    "print(\"specific element \" , array[1,2])\n",
    "print(\"specific row \" , array[1])\n",
    "print(\"specific column \" ,array[:,2] )"
   ]
  },
  {
   "cell_type": "markdown",
   "id": "5a1fa166",
   "metadata": {},
   "source": [
    "Sorting in array"
   ]
  },
  {
   "cell_type": "code",
   "execution_count": 26,
   "id": "470d5535",
   "metadata": {},
   "outputs": [
    {
     "name": "stdout",
     "output_type": "stream",
     "text": [
      "[1 2 3 3 5 7 9]\n",
      "[[1 1 2]\n",
      " [4 3 3]\n",
      " [9 3 5]]\n"
     ]
    }
   ],
   "source": [
    "array_1D = np.array([3,5,2,9,3,7,1])\n",
    "print(np.sort(array_1D))\n",
    "\n",
    "array_2D = np.array([[4,1,3],[9,3,5], [1,3,2]])\n",
    "print(np.sort(array_2D , axis = 0))"
   ]
  },
  {
   "cell_type": "markdown",
   "id": "b8684aa9",
   "metadata": {},
   "source": [
    "Filtering"
   ]
  },
  {
   "cell_type": "code",
   "execution_count": null,
   "id": "3c7d22c6",
   "metadata": {},
   "outputs": [
    {
     "name": "stdout",
     "output_type": "stream",
     "text": [
      "filtered array :  [1 2 3]\n"
     ]
    }
   ],
   "source": [
    "import numpy as np\n",
    "\n",
    "array = np.array([1,2,3,4,5,6,7,8])\n",
    "print(\"filtered array : \" , array[array < 4])"
   ]
  },
  {
   "cell_type": "markdown",
   "id": "5e11a218",
   "metadata": {},
   "source": [
    "Fancy indexing"
   ]
  },
  {
   "cell_type": "code",
   "execution_count": 34,
   "id": "e94c47b5",
   "metadata": {},
   "outputs": [
    {
     "name": "stdout",
     "output_type": "stream",
     "text": [
      "[1 3 6]\n"
     ]
    }
   ],
   "source": [
    "index = [0,2,5]\n",
    "new_array = array[index]\n",
    "print(new_array)"
   ]
  },
  {
   "cell_type": "markdown",
   "id": "d776c4d5",
   "metadata": {},
   "source": [
    "Array concatinate addition and delete "
   ]
  },
  {
   "cell_type": "code",
   "execution_count": 69,
   "id": "ddd4897b",
   "metadata": {},
   "outputs": [
    {
     "name": "stdout",
     "output_type": "stream",
     "text": [
      "[1 2 3 5 1 2 8 5]\n",
      "[[1 2 5 6 7 8]\n",
      " [3 5 1 4 4 4]]\n",
      "[[1 2 3 5]\n",
      " [5 6 7 8]\n",
      " [1 4 4 4]]\n",
      "[[1 4 4 4]]\n"
     ]
    }
   ],
   "source": [
    "arr1 = np.array([1,2,3,5])\n",
    "arr2 = np.array([[5,6,7,8],[1,4,4,4]])\n",
    "arr3 = np.array([1,2,8,5])\n",
    "\n",
    "print(np.concatenate((arr1 , arr3)))\n",
    "print(np.hstack((arr1.reshape(2,2),arr2)))\n",
    "print(np.vstack((arr1,arr2)))\n",
    "\n",
    "print(np.delete(arr2 , 0 , axis = 0))\n",
    "# print(np.delete(arr2 , 1 ))"
   ]
  }
 ],
 "metadata": {
  "kernelspec": {
   "display_name": ".venv",
   "language": "python",
   "name": "python3"
  },
  "language_info": {
   "codemirror_mode": {
    "name": "ipython",
    "version": 3
   },
   "file_extension": ".py",
   "mimetype": "text/x-python",
   "name": "python",
   "nbconvert_exporter": "python",
   "pygments_lexer": "ipython3",
   "version": "3.12.5"
  }
 },
 "nbformat": 4,
 "nbformat_minor": 5
}
