{
 "cells": [
  {
   "cell_type": "markdown",
   "id": "cfc06d8e",
   "metadata": {},
   "source": [
    "Storing images"
   ]
  },
  {
   "cell_type": "code",
   "execution_count": 1,
   "id": "878442b3",
   "metadata": {},
   "outputs": [],
   "source": [
    "import numpy as np\n",
    "import matplotlib.pyplot as plt"
   ]
  },
  {
   "cell_type": "code",
   "execution_count": 7,
   "id": "542d50d3",
   "metadata": {},
   "outputs": [
    {
     "name": "stdout",
     "output_type": "stream",
     "text": [
      "[1 3 5 7 2 4 6]\n",
      "[ 3 36  1  8 12 78 23]\n",
      "[ 2 78  2  0  2  1  8]\n"
     ]
    }
   ],
   "source": [
    "array1 = np.array([1,3,5,7,2,4,6])\n",
    "array2 = np.array([3,36,1,8,12,78,23])\n",
    "array3 = np.array([2,78,2,0,2,1,8])\n",
    "\n",
    "np.save('array_stored/array1.npy', array1)\n",
    "np.save('array_stored/array2.npy', array2)\n",
    "np.save('array_stored/array3.npy', array3)\n",
    "\n",
    "print(np.load('array_stored/array1.npy'))\n",
    "print(np.load('array_stored/array2.npy'))\n",
    "print(np.load('array_stored/array3.npy'))"
   ]
  }
 ],
 "metadata": {
  "kernelspec": {
   "display_name": ".venv",
   "language": "python",
   "name": "python3"
  },
  "language_info": {
   "codemirror_mode": {
    "name": "ipython",
    "version": 3
   },
   "file_extension": ".py",
   "mimetype": "text/x-python",
   "name": "python",
   "nbconvert_exporter": "python",
   "pygments_lexer": "ipython3",
   "version": "3.12.5"
  }
 },
 "nbformat": 4,
 "nbformat_minor": 5
}
