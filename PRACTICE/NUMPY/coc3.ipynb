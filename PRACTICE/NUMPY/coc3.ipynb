{
 "cells": [
  {
   "cell_type": "markdown",
   "id": "6449dcd9",
   "metadata": {},
   "source": [
    "Practice real life data "
   ]
  },
  {
   "cell_type": "code",
   "execution_count": null,
   "id": "3522405b",
   "metadata": {},
   "outputs": [],
   "source": [
    "import numpy as np"
   ]
  },
  {
   "cell_type": "code",
   "execution_count": 21,
   "id": "80cb5369",
   "metadata": {},
   "outputs": [
    {
     "name": "stdout",
     "output_type": "stream",
     "text": [
      "[ 7.   7.8  7.6 10.   6.8]\n"
     ]
    }
   ],
   "source": [
    "matrix = np.array([\n",
    "    [12,  7,  5,  3,  8],\n",
    "    [ 9, 14,  1,  4, 11],\n",
    "    [ 6, 10, 13,  2,  7],\n",
    "    [15,  8,  9,  6, 12],\n",
    "    [ 3,  5,  2, 14, 10]\n",
    "])\n",
    "\n",
    "# print(matrix.shape)\n",
    "#i want only 3 raws here is the login \n",
    "\n",
    "# print(matrix[0:3])\n",
    "\n",
    "# t_matrix = matrix.T\n",
    "# print(t_matrix[:3])\n",
    "\n",
    "# print(matrix[:, 0:3 ])\n",
    "\n",
    "minimam_value = np.min(matrix , axis = 0)\n",
    "# print(minimam_value)\n",
    "\n",
    "max_sale = np.max(matrix , axis=0)\n",
    "# print(max_sale)\n",
    "\n",
    "avg_sale = np.average(matrix , axis = 1)\n",
    "print(avg_sale)\n"
   ]
  }
 ],
 "metadata": {
  "kernelspec": {
   "display_name": ".venv",
   "language": "python",
   "name": "python3"
  },
  "language_info": {
   "codemirror_mode": {
    "name": "ipython",
    "version": 3
   },
   "file_extension": ".py",
   "mimetype": "text/x-python",
   "name": "python",
   "nbconvert_exporter": "python",
   "pygments_lexer": "ipython3",
   "version": "3.12.5"
  }
 },
 "nbformat": 4,
 "nbformat_minor": 5
}
